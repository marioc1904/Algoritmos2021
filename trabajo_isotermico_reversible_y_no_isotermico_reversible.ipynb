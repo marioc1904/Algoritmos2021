{
  "nbformat": 4,
  "nbformat_minor": 0,
  "metadata": {
    "colab": {
      "name": "trabajo isotermico reversible y no-isotermico reversible.ipynb",
      "provenance": [],
      "authorship_tag": "ABX9TyONi8Ocg78+A736dYmRz1p6",
      "include_colab_link": true
    },
    "kernelspec": {
      "name": "python3",
      "display_name": "Python 3"
    },
    "language_info": {
      "name": "python"
    }
  },
  "cells": [
    {
      "cell_type": "markdown",
      "metadata": {
        "id": "view-in-github",
        "colab_type": "text"
      },
      "source": [
        "<a href=\"https://colab.research.google.com/github/marioc1904/Algoritmos2021/blob/master/trabajo_isotermico_reversible_y_no_isotermico_reversible.ipynb\" target=\"_parent\"><img src=\"https://colab.research.google.com/assets/colab-badge.svg\" alt=\"Open In Colab\"/></a>"
      ]
    },
    {
      "cell_type": "markdown",
      "metadata": {
        "id": "Uwk0x57I30XF"
      },
      "source": [
        "Ejercicio: Expansión de un gas\n",
        "El trabajo realizado ( W ) por la expansión isotérmica reversible de un gas ideal es  W=−nRTlnVfVi , donde  n  son moles,  R  la constante universal de los gases igual  8.314Jmol⋅K ,  T  la temperatura en Kelvin,  Vi  y  Vf  volumen inicial y final en  m3 , respectivamente. Suponga ahora que la expansión es reversible pero no-isotérmica y que la temperatura disminuye a medida que avanza la expansión. (a) Encuentre una expresión para el trabajo cuando  T=Ti−c(V−Vi) , con  c  una constante positiva en  K/m3 , y  V  el volumen variable en  m3 . (b) ¿El trabajo es mayor o menor que para la expansión isotérmica?\n",
        "\n",
        "Fuente: Ejercicio 1.12 del libro Physical Chemistry for the Life Sciences de Peter Atkins y Julio de Paula."
      ]
    },
    {
      "cell_type": "code",
      "metadata": {
        "colab": {
          "base_uri": "https://localhost:8080/"
        },
        "id": "Yqi0KrFn3Ptt",
        "outputId": "0887b220-a402-4424-b27f-287d37482361"
      },
      "source": [
        "# Importamos el paquete sympy para usar la funciones integrate, symbols y Symbol.\n",
        "\n",
        "from sympy import *\n",
        "# init_printing(use_unicode=False, wrap_line=False)\n",
        "\n",
        "# Definición de variables simbólicas usando la función symbols()\n",
        "c, n, R, Ti, T, Vi, Vf, V, p = symbols('c, n, R, Ti, T, Vi, Vf, V, p')\n",
        "\n",
        "# Ecuaciones en orden de relevancia\n",
        "T = Ti - c*(V-Vi)     # para la expansión no-isotérmica reversible, Ti constante\n",
        "p1 = (n*R*Ti)/V       # expansión isotérmica reversible, Ti constante.\n",
        "p2 = (n*R*T)/V        # expansión no-isotérmica reversible\n",
        "\n",
        "# Integramos para cada caso usando la función integrate() y guardamos cada resultado en una variable\n",
        "# dW = -pdV\n",
        "\n",
        "# Forma indefinida\n",
        "result1 = integrate(-p1, (V, Vi, Vf))\n",
        "result2 = integrate(-p2, (V, Vi, Vf))\n",
        "\n",
        "print(\"Integrales indefinidas\")\n",
        "print(\"W1 =\", result1)\n",
        "print(\"W2 =\", result2)\n",
        "\n",
        "# Forma indefinida general\n",
        "resgel1 = integrate(-p1, (V, Vi, V))\n",
        "resgel2 = integrate(-p2, (V, Vi, V))\n",
        "\n",
        "print(\"\")\n",
        "print(\"Integrales indefinidas, forma general, con V indicado\")\n",
        "print(\"W1 =\", resgel1)\n",
        "print(\"W2 =\", resgel2)"
      ],
      "execution_count": null,
      "outputs": [
        {
          "output_type": "stream",
          "text": [
            "Integrales indefinidas\n",
            "W1 = -R*Ti*n*log(Vf) + R*Ti*n*log(Vi)\n",
            "W2 = R*Vf*c*n - R*Vi*c*n - R*n*(Ti + Vi*c)*log(Vf) + R*n*(Ti + Vi*c)*log(Vi)\n",
            "\n",
            "Integrales indefinidas, forma general, con V indicado\n",
            "W1 = -R*Ti*n*log(V) + R*Ti*n*log(Vi)\n",
            "W2 = R*V*c*n - R*Vi*c*n - R*n*(Ti + Vi*c)*log(V) + R*n*(Ti + Vi*c)*log(Vi)\n"
          ],
          "name": "stdout"
        }
      ]
    },
    {
      "cell_type": "code",
      "metadata": {
        "colab": {
          "base_uri": "https://localhost:8080/"
        },
        "id": "ylALSMj_4QYC",
        "outputId": "6b93e22f-7572-4f88-8a7b-1d9971b3dcbd"
      },
      "source": [
        "\n",
        "c = 5               # en K/m^3. Constante.\n",
        "n = 3               # en mol. Cantidad de Sustancia\n",
        "R = 8.314             # en J/(mol K). Constante universal de los gases\n",
        "Ti = 313.15           # en K. Equivale a 40ºC. Temperatura inicial\n",
        "Vi = 8              # en m^3. Volumen inicial\n",
        "Vf = 13               # en m^3. Volumen final\n",
        " \n",
        "# Ecuaciones en orden de relevancia\n",
        "T = Ti - c*(V-Vi)     # para la expansión no-isotérmica reversible, Ti constante\n",
        "p1 = (n*R*Ti)/V       # expansión isotérmica reversible, Ti constante.\n",
        "p2 = (n*R*T)/V        # expansión no-isotérmica reversible\n",
        "\n",
        "# Definimos al volumen V como variable usando la función Symbol()\n",
        "V = Symbol('V')\n",
        "\n",
        "# Calculamos las integrales definidas\n",
        "defint1 = integrate(p1, (V, Vi, Vf))\n",
        "defint2 = integrate(p2, (V, Vi, Vf))\n",
        "\n",
        "print(\"\")\n",
        "print(\"Integrales definidas\")\n",
        "print(defint1)\n",
        "print(defint2)\n",
        "\n",
        "# ¿El trabajo no-isotérmico reversible es mayor que el de la expansión isotérmica reversible?\n",
        "# Usamos lógica del programa (True: cumple, False: no cumple)\n",
        "logica = defint1 > defint2\n",
        "print(\"\")\n",
        "print(\"¿El trabajo no-isotérmico reversible es mayor que el de la expansión isotérmica reversible?\")\n",
        "if logica == True:\n",
        "  print(\"Sí\")\n",
        "else:\n",
        "  print(\"No\")\n"
      ],
      "execution_count": null,
      "outputs": [
        {
          "output_type": "stream",
          "text": [
            "\n",
            "Integrales definidas\n",
            "-7810.5873*log(8) + 7810.5873*log(13)\n",
            "-8808.2673*log(8) - 623.55 + 8808.2673*log(13)\n",
            "\n",
            "¿El trabajo no-isotérmico reversible es mayor que el de la expansión isotérmica reversible?\n",
            "Sí\n"
          ],
          "name": "stdout"
        }
      ]
    },
    {
      "cell_type": "code",
      "metadata": {
        "colab": {
          "base_uri": "https://localhost:8080/",
          "height": 295
        },
        "id": "k_GUzXpC4IWW",
        "outputId": "3f10a95d-1301-4eee-c0f8-65fada106531"
      },
      "source": [
        "import matplotlib.pyplot as plt\n",
        "import numpy as np\n",
        "from sympy import *\n",
        "\n",
        "c = 5              \n",
        "n = 3               \n",
        "R = 8.314            \n",
        "Ti = 313.15          \n",
        "Vi = 1  \n",
        "\n",
        "\n",
        "\n",
        "V = np.arange(10,500)\n",
        "\n",
        "W1 = R*Ti*n*np.log(V) - R*Ti*n*np.log(Vi)\n",
        "W2 = R*V*c*n + R*Vi*c*n + R*n*(Ti + Vi*c)*np.log(V) - R*n*(Ti + Vi*c)*np.log(Vi)\n",
        "\n",
        "plt.plot(V, W1, label='W1')\n",
        "plt.plot(V, W2, label='W2')\n",
        "\n",
        "plt.xlabel('volumen en metro^3')\n",
        "plt.ylabel('trabajo (joules)')\n",
        "\n",
        "plt.title('trabajo de expansión de un gas')\n",
        "plt.legend()\n",
        "plt.show()"
      ],
      "execution_count": 16,
      "outputs": [
        {
          "output_type": "display_data",
          "data": {
            "image/png": "[encoded data removed]",
            "text/plain": [
              "<Figure size 432x288 with 1 Axes>"
            ]
          },
          "metadata": {
            "tags": [],
            "needs_background": "light"
          }
        }
      ]
    }
  ]
}